{
  "nbformat": 4,
  "nbformat_minor": 0,
  "metadata": {
    "colab": {
      "provenance": []
    },
    "kernelspec": {
      "name": "python3",
      "display_name": "Python 3"
    },
    "language_info": {
      "name": "python"
    }
  },
  "cells": [
    {
      "cell_type": "code",
      "execution_count": 1,
      "metadata": {
        "colab": {
          "base_uri": "https://localhost:8080/"
        },
        "id": "yn5wyU6MHidl",
        "outputId": "25df7cbc-60cf-4371-e27e-87934be54f39"
      },
      "outputs": [
        {
          "output_type": "stream",
          "name": "stdout",
          "text": [
            "4\n",
            "-1\n",
            "6\n",
            "0.6666666666666666\n",
            "1\n",
            "8\n",
            "1\n"
          ]
        }
      ],
      "source": [
        "#penjumlahan\n",
        "print(2+2)\n",
        "#pengurangan\n",
        "print(2-3)\n",
        "#perkalian\n",
        "print(2*3)\n",
        "#pembagian\n",
        "print(2/3)\n",
        "#modulus\n",
        "print(3%2)\n",
        "#perpangkatan\n",
        "print(2**3)\n",
        "#pembagian hasil pembulatan flooring\n",
        "print(3//2)"
      ]
    },
    {
      "cell_type": "code",
      "source": [
        "#penjumlahan\n",
        "print(3+2)\n",
        "#pengurangan\n",
        "print(3-3)\n",
        "#perkalian\n",
        "print(3*3)\n",
        "#pembagian\n",
        "print(3/3)\n",
        "#modulus\n",
        "print(3%3)\n",
        "#perpangkatan\n",
        "print(3**3)\n",
        "#pembagian hasil pembulatan flooring\n",
        "print(3//3)"
      ],
      "metadata": {
        "colab": {
          "base_uri": "https://localhost:8080/"
        },
        "id": "5jOzVxykL5ZD",
        "outputId": "3145a908-0113-46d9-c08e-68cf31426d8e"
      },
      "execution_count": 2,
      "outputs": [
        {
          "output_type": "stream",
          "name": "stdout",
          "text": [
            "5\n",
            "0\n",
            "9\n",
            "1.0\n",
            "0\n",
            "27\n",
            "1\n"
          ]
        }
      ]
    },
    {
      "cell_type": "code",
      "source": [
        "#Latihan 1\n",
        "#penjumlahan\n",
        "x=5\n",
        "a=x+5\n",
        "print(a)\n",
        "#pengurangan\n",
        "b=x-5\n",
        "print(b)\n",
        "#perkalian\n",
        "c=x*5\n",
        "print(c)\n",
        "#pembagian\n",
        "d=x/5\n",
        "print(d)\n",
        "#modulus\n",
        "e=x%5\n",
        "print(e)\n",
        "#perpangkatan\n",
        "f=x**5\n",
        "print(f)\n",
        "#pembagian flooring\n",
        "g=x//5\n",
        "print(g)"
      ],
      "metadata": {
        "colab": {
          "base_uri": "https://localhost:8080/"
        },
        "id": "pGEv8GKDMY6g",
        "outputId": "d8217158-84af-4a6b-fd52-c5bff5e79375"
      },
      "execution_count": 4,
      "outputs": [
        {
          "output_type": "stream",
          "name": "stdout",
          "text": [
            "10\n",
            "0\n",
            "25\n",
            "1.0\n",
            "0\n",
            "3125\n",
            "1\n"
          ]
        }
      ]
    },
    {
      "cell_type": "code",
      "source": [
        "#latihan 2\n",
        "#penjumlahan\n",
        "x=6\n",
        "a=x+6\n",
        "print(a)\n",
        "#pengurangan\n",
        "b=x-6\n",
        "print(b)\n",
        "#perkalian\n",
        "c=x*6\n",
        "print(c)\n",
        "#pembagian\n",
        "d=x/6\n",
        "print(d)\n",
        "#modulus\n",
        "e=x%6\n",
        "print(e)\n",
        "#perpangkatan\n",
        "f=x**6\n",
        "print(f)\n",
        "#pembagian flooring\n",
        "g=x//6\n",
        "print(g)"
      ],
      "metadata": {
        "colab": {
          "base_uri": "https://localhost:8080/"
        },
        "id": "piegkiAcNCPW",
        "outputId": "e59bbe33-37a4-4c09-fd73-f31e69a7b067"
      },
      "execution_count": 6,
      "outputs": [
        {
          "output_type": "stream",
          "name": "stdout",
          "text": [
            "12\n",
            "0\n",
            "36\n",
            "1.0\n",
            "0\n",
            "46656\n",
            "1\n"
          ]
        }
      ]
    },
    {
      "cell_type": "code",
      "source": [
        "print(2==2)\n",
        "print(2!=2)\n",
        "print(2>2)\n",
        "print(2<2)\n",
        "print(2>=2)\n",
        "print(2<=2)"
      ],
      "metadata": {
        "colab": {
          "base_uri": "https://localhost:8080/"
        },
        "id": "hd_kq99HNbOO",
        "outputId": "4cb1b2e9-6a8e-4721-ceb5-c46549b57554"
      },
      "execution_count": 7,
      "outputs": [
        {
          "output_type": "stream",
          "name": "stdout",
          "text": [
            "True\n",
            "False\n",
            "False\n",
            "False\n",
            "True\n",
            "True\n"
          ]
        }
      ]
    },
    {
      "cell_type": "code",
      "source": [
        "#Latihan 3\n",
        "print(3==2)\n",
        "print(3!=2)\n",
        "print(3>2)\n",
        "print(3<2)\n",
        "print(3>=2)\n",
        "print(3<=2)"
      ],
      "metadata": {
        "colab": {
          "base_uri": "https://localhost:8080/"
        },
        "id": "dRdhXUoaN5yQ",
        "outputId": "d18cc57f-773c-4807-828d-6bf15d8c94c9"
      },
      "execution_count": 10,
      "outputs": [
        {
          "output_type": "stream",
          "name": "stdout",
          "text": [
            "False\n",
            "True\n",
            "True\n",
            "False\n",
            "True\n",
            "False\n"
          ]
        }
      ]
    },
    {
      "cell_type": "code",
      "source": [
        "print(True and False)\n",
        "print(False or False)\n",
        "print(not False and True)"
      ],
      "metadata": {
        "colab": {
          "base_uri": "https://localhost:8080/"
        },
        "id": "0qnR63tWN9tB",
        "outputId": "bfb2294d-b416-4450-c0e5-a42de7e8416f"
      },
      "execution_count": 12,
      "outputs": [
        {
          "output_type": "stream",
          "name": "stdout",
          "text": [
            "False\n",
            "False\n",
            "True\n"
          ]
        }
      ]
    },
    {
      "cell_type": "code",
      "source": [
        "#Latihan 4\n",
        "print(False and False)\n",
        "print(False or True)\n",
        "print(not True and False)"
      ],
      "metadata": {
        "colab": {
          "base_uri": "https://localhost:8080/"
        },
        "id": "0JoVxXtFOO9d",
        "outputId": "4be4f8c8-3ad5-4213-faea-18d90878b085"
      },
      "execution_count": 13,
      "outputs": [
        {
          "output_type": "stream",
          "name": "stdout",
          "text": [
            "False\n",
            "True\n",
            "False\n"
          ]
        }
      ]
    },
    {
      "cell_type": "code",
      "source": [
        "a=(1,2,3,4,5,6)\n",
        "b=2\n",
        "print(b in a)"
      ],
      "metadata": {
        "colab": {
          "base_uri": "https://localhost:8080/"
        },
        "id": "bitiZzdzOc4Q",
        "outputId": "78cf68f1-21d5-4b76-ae30-4908284290e2"
      },
      "execution_count": 15,
      "outputs": [
        {
          "output_type": "stream",
          "name": "stdout",
          "text": [
            "True\n"
          ]
        }
      ]
    },
    {
      "cell_type": "code",
      "source": [
        "#Latihan 5\n",
        "a=(2,7,3,6,1,5)\n",
        "b=10\n",
        "print(b in a)"
      ],
      "metadata": {
        "colab": {
          "base_uri": "https://localhost:8080/"
        },
        "id": "G6KLyFCROsMu",
        "outputId": "e8a49851-1be9-4f06-b5a9-d4beb9e2870e"
      },
      "execution_count": 17,
      "outputs": [
        {
          "output_type": "stream",
          "name": "stdout",
          "text": [
            "False\n"
          ]
        }
      ]
    },
    {
      "cell_type": "code",
      "source": [
        "kalimat='ini adalah variabel'\n",
        "bilangan1=4\n",
        "bilangan2=2.5\n",
        "bilangan3=True\n",
        "bilangan4=1j+4\n",
        "#menampilkan variabel\n",
        "print(kalimat)\n",
        "print(bilangan1)\n",
        "print(bilangan2)\n",
        "print(bilangan3)\n",
        "print(bilangan4)"
      ],
      "metadata": {
        "colab": {
          "base_uri": "https://localhost:8080/"
        },
        "id": "jPzcuGQZO57x",
        "outputId": "ac1a97c1-8ae0-405b-e0df-39382e3527f8"
      },
      "execution_count": 20,
      "outputs": [
        {
          "output_type": "stream",
          "name": "stdout",
          "text": [
            "ini adalah variabel\n",
            "4\n",
            "2.5\n",
            "True\n",
            "(4+1j)\n"
          ]
        }
      ]
    },
    {
      "cell_type": "code",
      "source": [
        "#Latihan 6\n",
        "kalimat='ini adalah kalimat'\n",
        "bilangan1=5\n",
        "bilangan2=2.7\n",
        "bilangan3=False\n",
        "bilangan4=6j\n",
        "#menampilkan variabel\n",
        "print(kalimat)\n",
        "print(bilangan1)\n",
        "print(bilangan2)\n",
        "print(bilangan3)\n",
        "print(bilangan4)"
      ],
      "metadata": {
        "colab": {
          "base_uri": "https://localhost:8080/"
        },
        "id": "Q9ADDvh_Ri73",
        "outputId": "39dd783e-1131-4d01-99dc-46def788d1a3"
      },
      "execution_count": 24,
      "outputs": [
        {
          "output_type": "stream",
          "name": "stdout",
          "text": [
            "ini adalah kalimat\n",
            "5\n",
            "2.7\n",
            "False\n",
            "6j\n"
          ]
        }
      ]
    },
    {
      "cell_type": "code",
      "source": [
        "print(type(kalimat))\n",
        "print(type(bilangan1))\n",
        "print(type(bilangan2))\n",
        "print(type(bilangan2))\n",
        "print(type(bilangan3))\n",
        "print(type(bilangan4))"
      ],
      "metadata": {
        "colab": {
          "base_uri": "https://localhost:8080/"
        },
        "id": "la0k2yLSRy8F",
        "outputId": "f4a94d1b-c9a6-4e7b-8f83-1b0a2714c91a"
      },
      "execution_count": 22,
      "outputs": [
        {
          "output_type": "stream",
          "name": "stdout",
          "text": [
            "<class 'str'>\n",
            "<class 'int'>\n",
            "<class 'float'>\n",
            "<class 'float'>\n",
            "<class 'bool'>\n",
            "<class 'complex'>\n"
          ]
        }
      ]
    },
    {
      "cell_type": "code",
      "source": [
        "#konversi tipe data integer\n",
        "print(int(bilangan2))\n",
        "print(int(bilangan3))\n",
        "#konversi tipe data float\n",
        "print(float(bilangan1))\n",
        "#konversi tipe data string\n",
        "print(str(bilangan1))\n",
        "#konversi tipe data bool\n",
        "print(bool(bilangan1))\n",
        "#konversi tipe data komplex\n",
        "print(complex(bilangan1))"
      ],
      "metadata": {
        "colab": {
          "base_uri": "https://localhost:8080/"
        },
        "id": "CNqLezY3SKIa",
        "outputId": "5376bd13-2456-4c31-e9dd-9a4946e65cc3"
      },
      "execution_count": 25,
      "outputs": [
        {
          "output_type": "stream",
          "name": "stdout",
          "text": [
            "2\n",
            "0\n",
            "5.0\n",
            "5\n",
            "True\n",
            "(5+0j)\n"
          ]
        }
      ]
    }
  ]
}